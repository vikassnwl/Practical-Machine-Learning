{
 "cells": [
  {
   "cell_type": "markdown",
   "metadata": {},
   "source": [
    "**Q. What is cross-validation, and why is it important in model evaluation?**\n",
    "\n",
    "**Ans.**\n",
    "\n",
    "**cross-validation definition:**\n",
    "\n",
    "Cross-validation is a resampling technique used to evaluate the performance of a machine learning model on unseen data. It involves dividing the available data into multiple folds or subsets, training the model on a portion of the data, and then evaluating its performance on the remaining portion. This process is repeated multiple times, with different folds used for training and testing in each iteration.\n",
    "\n",
    "**Importance of cross-validation in model evaluation:**\n",
    "\n",
    "- **Prevents Overfitting:** Evaluates model performance on unseen data, reducing the risk of overfitting.   \n",
    "- **Model Selection:** Helps choose the best model or hyperparameters based on performance on multiple folds.   \n",
    "- **Performance Estimation:** Provides a more reliable estimate of model performance than a single train-test split."
   ]
  },
  {
   "cell_type": "markdown",
   "metadata": {},
   "source": []
  },
  {
   "cell_type": "code",
   "execution_count": null,
   "metadata": {},
   "outputs": [],
   "source": []
  },
  {
   "cell_type": "markdown",
   "metadata": {},
   "source": [
    "### Load the Dataset"
   ]
  },
  {
   "cell_type": "code",
   "execution_count": 6,
   "metadata": {},
   "outputs": [],
   "source": [
    "import pandas as pd\n",
    "from sklearn.model_selection import train_test_split, cross_val_score\n",
    "from sklearn.linear_model import LogisticRegression\n",
    "from sklearn.ensemble import RandomForestClassifier\n",
    "from sklearn.svm import SVC\n",
    "from sklearn.metrics import accuracy_score"
   ]
  },
  {
   "cell_type": "code",
   "execution_count": 7,
   "metadata": {},
   "outputs": [],
   "source": [
    "# Load the Wine Quality dataset\n",
    "url = \"https://archive.ics.uci.edu/ml/machine-learning-databases/wine-quality/winequality-red.csv\"\n",
    "df = pd.read_csv(url, delimiter=\";\")\n",
    "\n",
    "# Separate features and target\n",
    "X = df.drop(\"quality\", axis=1)\n",
    "y = (df[\"quality\"] >= 6).astype(int)  # Binary classification: Good (>=6) vs Bad (<6)\n",
    "\n",
    "# Train-test split\n",
    "X_train, X_test, y_train, y_test = train_test_split(X, y, test_size=0.2, random_state=42)"
   ]
  },
  {
   "cell_type": "markdown",
   "metadata": {},
   "source": [
    "### Apply Cross-Validation\n",
    "Perform cross-validation on multiple models to compare performance."
   ]
  },
  {
   "cell_type": "code",
   "execution_count": 8,
   "metadata": {},
   "outputs": [
    {
     "name": "stdout",
     "output_type": "stream",
     "text": [
      "Logistic Regression: Mean Accuracy = 0.7443, Std Dev = 0.0195\n",
      "Random Forest: Mean Accuracy = 0.8030, Std Dev = 0.0190\n",
      "SVM: Mean Accuracy = 0.6286, Std Dev = 0.0309\n"
     ]
    }
   ],
   "source": [
    "from sklearn.model_selection import StratifiedKFold\n",
    "\n",
    "# Define models\n",
    "models = {\n",
    "    \"Logistic Regression\": LogisticRegression(max_iter=1000, random_state=42),\n",
    "    \"Random Forest\": RandomForestClassifier(random_state=42),\n",
    "    \"SVM\": SVC(random_state=42)\n",
    "}\n",
    "\n",
    "# Stratified k-fold for consistent splits\n",
    "cv = StratifiedKFold(n_splits=5, shuffle=True, random_state=42)\n",
    "\n",
    "# Evaluate models using cross-validation\n",
    "for name, model in models.items():\n",
    "    scores = cross_val_score(model, X_train, y_train, cv=cv, scoring=\"accuracy\")\n",
    "    print(f\"{name}: Mean Accuracy = {scores.mean():.4f}, Std Dev = {scores.std():.4f}\")"
   ]
  },
  {
   "cell_type": "markdown",
   "metadata": {},
   "source": [
    "### Train and Evaluate the Best Model\n",
    "Choose the best model based on cross-validation performance and evaluate on the test set."
   ]
  },
  {
   "cell_type": "code",
   "execution_count": 9,
   "metadata": {},
   "outputs": [
    {
     "name": "stdout",
     "output_type": "stream",
     "text": [
      "\n",
      "Best Model Test Accuracy: 0.7906\n"
     ]
    }
   ],
   "source": [
    "# Select the best model (e.g., Random Forest in this case)\n",
    "best_model = RandomForestClassifier(random_state=42)\n",
    "best_model.fit(X_train, y_train)\n",
    "\n",
    "# Test set evaluation\n",
    "y_pred = best_model.predict(X_test)\n",
    "test_accuracy = accuracy_score(y_test, y_pred)\n",
    "print(f\"\\nBest Model Test Accuracy: {test_accuracy:.4f}\")"
   ]
  },
  {
   "cell_type": "code",
   "execution_count": null,
   "metadata": {},
   "outputs": [],
   "source": []
  }
 ],
 "metadata": {
  "kernelspec": {
   "display_name": "env",
   "language": "python",
   "name": "python3"
  },
  "language_info": {
   "codemirror_mode": {
    "name": "ipython",
    "version": 3
   },
   "file_extension": ".py",
   "mimetype": "text/x-python",
   "name": "python",
   "nbconvert_exporter": "python",
   "pygments_lexer": "ipython3",
   "version": "3.12.5"
  }
 },
 "nbformat": 4,
 "nbformat_minor": 2
}
