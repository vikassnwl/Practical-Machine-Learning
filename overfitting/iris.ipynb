{
 "cells": [
  {
   "cell_type": "markdown",
   "metadata": {},
   "source": [
    "**Q. What is overfitting in machine learning, and how can it be prevented?**\n",
    "\n",
    "**Ans.**\n",
    "\n",
    "**Overfitting definition:**\n",
    "\n",
    "Overfitting occurs when a machine learning model becomes too complex and learns the training data too well, including its noise and irregularities. As a result, the model performs poorly on new, unseen data. It essentially memorizes the training data rather than learning the underlying patterns.\n",
    "\n",
    "**Techniques to prevent overfitting:**\n",
    "\n",
    "- **Increase training data:** More data helps the model learn general patterns.\n",
    "- **Regularization:** Penalizes complex models to avoid overfitting.\n",
    "- **Early stopping:** Stops training before the model starts memorizing noise.\n",
    "- **Feature selection:** Reduces the number of features used.\n",
    "- **Model simplification:** Uses simpler models with fewer parameters.\n",
    "- **Ensemble methods:** Combines multiple models to improve generalization.\n",
    "- **Cross-validation:** Evaluates the model's performance on different subsets of data."
   ]
  },
  {
   "cell_type": "markdown",
   "metadata": {},
   "source": []
  },
  {
   "cell_type": "markdown",
   "metadata": {},
   "source": [
    "### Load the Dataset"
   ]
  },
  {
   "cell_type": "code",
   "execution_count": 14,
   "metadata": {},
   "outputs": [],
   "source": [
    "from sklearn.datasets import load_iris\n",
    "from sklearn.model_selection import train_test_split\n",
    "from sklearn.tree import DecisionTreeClassifier\n",
    "from sklearn.metrics import classification_report, accuracy_score"
   ]
  },
  {
   "cell_type": "code",
   "execution_count": 15,
   "metadata": {},
   "outputs": [],
   "source": [
    "# Load the dataset\n",
    "data = load_iris()\n",
    "X = data.data\n",
    "y = data.target"
   ]
  },
  {
   "cell_type": "code",
   "execution_count": 16,
   "metadata": {},
   "outputs": [],
   "source": [
    "# Split into training and testing sets\n",
    "X_train, X_test, y_train, y_test = train_test_split(X, y, test_size=0.3, random_state=42)"
   ]
  },
  {
   "cell_type": "markdown",
   "metadata": {},
   "source": [
    "### Build an Overfitting Model\n",
    "Train a decision tree without any regularization to demonstrate overfitting."
   ]
  },
  {
   "cell_type": "code",
   "execution_count": 17,
   "metadata": {},
   "outputs": [
    {
     "name": "stdout",
     "output_type": "stream",
     "text": [
      "Without Regularization:\n",
      "Training Accuracy: 1.0\n",
      "Test Accuracy: 1.0\n"
     ]
    }
   ],
   "source": [
    "# Decision Tree without regularization\n",
    "tree_no_reg = DecisionTreeClassifier(random_state=42)\n",
    "tree_no_reg.fit(X_train, y_train)\n",
    "\n",
    "# Evaluate on training and test sets\n",
    "y_train_pred = tree_no_reg.predict(X_train)\n",
    "y_test_pred = tree_no_reg.predict(X_test)\n",
    "\n",
    "print(\"Without Regularization:\")\n",
    "print(f\"Training Accuracy: {accuracy_score(y_train, y_train_pred)}\")\n",
    "print(f\"Test Accuracy: {accuracy_score(y_test, y_test_pred)}\")"
   ]
  },
  {
   "cell_type": "markdown",
   "metadata": {},
   "source": [
    "### Prevent Overfitting\n",
    "Apply regularization techniques such as `max_depth`, `min_samples_split`, or `ccp_alpha`."
   ]
  },
  {
   "cell_type": "code",
   "execution_count": 18,
   "metadata": {},
   "outputs": [
    {
     "name": "stdout",
     "output_type": "stream",
     "text": [
      "\n",
      "With Regularization:\n",
      "Training Accuracy: 0.9523809523809523\n",
      "Test Accuracy: 1.0\n"
     ]
    }
   ],
   "source": [
    "# Decision Tree with Regularization\n",
    "tree_with_reg = DecisionTreeClassifier(max_depth=3, min_samples_split=10, random_state=42)\n",
    "tree_with_reg.fit(X_train, y_train)\n",
    "\n",
    "# Evaluate on training and test sets\n",
    "y_train_pred_reg = tree_with_reg.predict(X_train)\n",
    "y_test_pred_reg = tree_with_reg.predict(X_test)\n",
    "\n",
    "print(\"\\nWith Regularization:\")\n",
    "print(f\"Training Accuracy: {accuracy_score(y_train, y_train_pred_reg)}\")\n",
    "print(f\"Test Accuracy: {accuracy_score(y_test, y_test_pred_reg)}\")"
   ]
  },
  {
   "cell_type": "markdown",
   "metadata": {},
   "source": [
    "### Compare results using cost complexity pruning"
   ]
  },
  {
   "cell_type": "code",
   "execution_count": 19,
   "metadata": {},
   "outputs": [
    {
     "name": "stdout",
     "output_type": "stream",
     "text": [
      "\n",
      "Best Tree (Cost Complexity Pruning):\n",
      "Alpha: 0.0\n",
      "Test Accuracy: 1.0\n"
     ]
    }
   ],
   "source": [
    "# Cost complexity pruning\n",
    "path = tree_no_reg.cost_complexity_pruning_path(X_train, y_train)\n",
    "ccp_alphas = path.ccp_alphas[:-1]  # Exclude the maximum alpha\n",
    "trees = []\n",
    "\n",
    "# Train trees for different values of alpha\n",
    "for alpha in ccp_alphas:\n",
    "    tree = DecisionTreeClassifier(random_state=42, ccp_alpha=alpha)\n",
    "    tree.fit(X_train, y_train)\n",
    "    trees.append(tree)\n",
    "\n",
    "# Evaluate each tree\n",
    "test_scores = [accuracy_score(y_test, tree.predict(X_test)) for tree in trees]\n",
    "\n",
    "# Find the best alpha\n",
    "best_alpha_index = test_scores.index(max(test_scores))\n",
    "best_tree = trees[best_alpha_index]\n",
    "\n",
    "print(\"\\nBest Tree (Cost Complexity Pruning):\")\n",
    "print(f\"Alpha: {ccp_alphas[best_alpha_index]}\")\n",
    "print(f\"Test Accuracy: {test_scores[best_alpha_index]}\")"
   ]
  },
  {
   "cell_type": "code",
   "execution_count": null,
   "metadata": {},
   "outputs": [],
   "source": []
  }
 ],
 "metadata": {
  "kernelspec": {
   "display_name": "env",
   "language": "python",
   "name": "python3"
  },
  "language_info": {
   "codemirror_mode": {
    "name": "ipython",
    "version": 3
   },
   "file_extension": ".py",
   "mimetype": "text/x-python",
   "name": "python",
   "nbconvert_exporter": "python",
   "pygments_lexer": "ipython3",
   "version": "3.12.5"
  }
 },
 "nbformat": 4,
 "nbformat_minor": 2
}
